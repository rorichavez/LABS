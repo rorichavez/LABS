{
 "cells": [
  {
   "cell_type": "markdown",
   "id": "ed66afd3-31a1-4d95-bffd-74d373b4c027",
   "metadata": {},
   "source": [
    "# LAB 1"
   ]
  },
  {
   "cell_type": "markdown",
   "id": "81a253d4-bf13-4dfa-ad17-e329a18d9368",
   "metadata": {
    "jp-MarkdownHeadingCollapsed": true
   },
   "source": [
    "**Exercise: Managing Customer Orders**\n",
    "\n",
    "As part of a business venture, you are starting an online store that sells various products. To ensure smooth operations, you need to develop a program that manages customer orders and inventory.\n",
    "\n",
    "Follow the steps below to complete the exercise:\n",
    "\n",
    "1. Define a list called `products` that contains the following items: \"t-shirt\", \"mug\", \"hat\", \"book\", \"keychain\".\n",
    "\n",
    "2. Create an empty dictionary called `inventory`.\n",
    "\n",
    "3. Ask the user to input the quantity of each product available in the inventory. Use the product names from the `products` list as keys in the `inventory` dictionary and assign the respective quantities as values.\n",
    "\n",
    "4. Create an empty set called `customer_orders`.\n",
    "\n",
    "5. Ask the user to input the name of three products that a customer wants to order (from those in the products list, meaning three products out of \"t-shirt\", \"mug\", \"hat\", \"book\" or \"keychain\". Add each product name to the `customer_orders` set.\n",
    "\n",
    "6. Print the products in the `customer_orders` set.\n",
    "\n",
    "7. Calculate the following order statistics:\n",
    "   - Total Products Ordered: The total number of products in the `customer_orders` set.\n",
    "   - Percentage of Products Ordered: The percentage of products ordered compared to the total available products.\n",
    "   \n",
    "   Store these statistics in a tuple called `order_status`.\n",
    "\n",
    "8. Print the order statistics using the following format:\n",
    "   ```\n",
    "   Order Statistics:\n",
    "   Total Products Ordered: <total_products_ordered>\n",
    "   Percentage of Products Ordered: <percentage_ordered>% \n",
    "   ```\n",
    "\n",
    "9. Update the inventory by subtracting 1 from the quantity of each product. Modify the `inventory` dictionary accordingly.\n",
    "\n",
    "10. Print the updated inventory, displaying the quantity of each product on separate lines.\n",
    "\n",
    "Solve the exercise by implementing the steps using the Python concepts of lists, dictionaries, sets, and basic input/output operations. "
   ]
  },
  {
   "cell_type": "code",
   "execution_count": 1,
   "id": "d1fcbd82-d7ac-420e-8a8a-2b20276e4f82",
   "metadata": {},
   "outputs": [
    {
     "data": {
      "text/plain": [
       "['t-shirt', 'mug', 'hat', 'book', 'keychain']"
      ]
     },
     "execution_count": 1,
     "metadata": {},
     "output_type": "execute_result"
    }
   ],
   "source": [
    "products = [\"t-shirt\", \"mug\", \"hat\", \"book\", \"keychain\"]\n",
    "products"
   ]
  },
  {
   "cell_type": "code",
   "execution_count": 2,
   "id": "3bafd1a3-1129-4cb3-8af0-5f068a6b9b36",
   "metadata": {},
   "outputs": [],
   "source": [
    "inventory = {}"
   ]
  },
  {
   "cell_type": "code",
   "execution_count": 3,
   "id": "a9e50323-5571-4f8a-9dfc-1958a13403d9",
   "metadata": {},
   "outputs": [
    {
     "name": "stdin",
     "output_type": "stream",
     "text": [
      "Enter the quantity of t-shirt:  44\n",
      "Enter the quantity of mug:  33\n",
      "Enter the quantity of hat:  22\n",
      "Enter the quantity of book:  66\n",
      "Enter the quantity of keychain:  45\n"
     ]
    },
    {
     "name": "stdout",
     "output_type": "stream",
     "text": [
      "{'t-shirt': 44, 'mug': 33, 'hat': 22, 'book': 66, 'keychain': 45}\n"
     ]
    }
   ],
   "source": [
    "for i in products:\n",
    "    quantity = -1\n",
    "    while quantity < 0:\n",
    "        quantity = int(input(f\"Enter the quantity of {i}: \"))\n",
    "    inventory[i] = quantity\n",
    "print(inventory)"
   ]
  },
  {
   "cell_type": "code",
   "execution_count": 4,
   "id": "1a82641c-a8ae-48b7-b03e-ab2306ec29d5",
   "metadata": {},
   "outputs": [
    {
     "data": {
      "text/plain": [
       "set"
      ]
     },
     "execution_count": 4,
     "metadata": {},
     "output_type": "execute_result"
    }
   ],
   "source": [
    "customer_orders = set()\n",
    "type(customer_orders)"
   ]
  },
  {
   "cell_type": "code",
   "execution_count": 5,
   "id": "fbaa3e53-b3a4-41e2-882e-742091f248e4",
   "metadata": {},
   "outputs": [
    {
     "data": {
      "text/plain": [
       "{'t-shirt': 44, 'mug': 33, 'hat': 22, 'book': 66, 'keychain': 45}"
      ]
     },
     "execution_count": 5,
     "metadata": {},
     "output_type": "execute_result"
    }
   ],
   "source": [
    "inventory"
   ]
  },
  {
   "cell_type": "code",
   "execution_count": 6,
   "id": "a281eb56-cddf-465e-a936-d2b4a8cce971",
   "metadata": {},
   "outputs": [
    {
     "name": "stdin",
     "output_type": "stream",
     "text": [
      "Enter a product:  mug\n",
      "Enter a product:  hat\n",
      "Enter a product:  book\n"
     ]
    },
    {
     "data": {
      "text/plain": [
       "{'book', 'hat', 'mug'}"
      ]
     },
     "execution_count": 6,
     "metadata": {},
     "output_type": "execute_result"
    }
   ],
   "source": [
    "for i in range(3):\n",
    "    new_orders = str(input(\"Enter a product: \"))\n",
    "    #if new_orders in customer_orders:\n",
    "    customer_orders.add(new_orders)\n",
    "customer_orders"
   ]
  },
  {
   "cell_type": "code",
   "execution_count": 7,
   "id": "0ff42c05-31f7-412f-804d-b8bbb4a545ff",
   "metadata": {},
   "outputs": [
    {
     "data": {
      "text/plain": [
       "set"
      ]
     },
     "execution_count": 7,
     "metadata": {},
     "output_type": "execute_result"
    }
   ],
   "source": [
    "type(customer_orders)"
   ]
  },
  {
   "cell_type": "code",
   "execution_count": 8,
   "id": "07647acb-cbb7-4fdb-9ac1-2a03789cb595",
   "metadata": {},
   "outputs": [
    {
     "name": "stdout",
     "output_type": "stream",
     "text": [
      "{'book', 'hat', 'mug'}\n"
     ]
    }
   ],
   "source": [
    "print(customer_orders)"
   ]
  },
  {
   "cell_type": "code",
   "execution_count": 9,
   "id": "c35d8a61-9b5f-46c3-9e11-92f61e65d763",
   "metadata": {},
   "outputs": [
    {
     "name": "stdout",
     "output_type": "stream",
     "text": [
      "3\n"
     ]
    }
   ],
   "source": [
    "print(len(customer_orders))"
   ]
  },
  {
   "cell_type": "code",
   "execution_count": 10,
   "id": "da07121a-9267-4bcd-b877-a214b3a5e20d",
   "metadata": {},
   "outputs": [],
   "source": [
    "products_ordered = len(customer_orders)\n",
    "total_available = sum(inventory.values())\n",
    "percentage = (products_ordered/total_available) * 100"
   ]
  },
  {
   "cell_type": "code",
   "execution_count": 11,
   "id": "b89f5783-e87d-4096-8a50-3ab993e3a12c",
   "metadata": {},
   "outputs": [
    {
     "name": "stdout",
     "output_type": "stream",
     "text": [
      "3\n",
      "210\n"
     ]
    }
   ],
   "source": [
    "print(products_ordered)\n",
    "print(total_available)"
   ]
  },
  {
   "cell_type": "code",
   "execution_count": 12,
   "id": "49a12988-491c-449d-9e46-46e45e479377",
   "metadata": {},
   "outputs": [
    {
     "name": "stdout",
     "output_type": "stream",
     "text": [
      "1.4285714285714286\n"
     ]
    }
   ],
   "source": [
    "print(percentage)"
   ]
  },
  {
   "cell_type": "code",
   "execution_count": 13,
   "id": "58800632-be0d-4290-8fc1-9b288438f1ca",
   "metadata": {},
   "outputs": [
    {
     "name": "stdout",
     "output_type": "stream",
     "text": [
      "(3, 1.4285714285714286)\n"
     ]
    }
   ],
   "source": [
    "order_status = (products_ordered, percentage)\n",
    "print(order_status)"
   ]
  },
  {
   "cell_type": "code",
   "execution_count": 14,
   "id": "c2532f89-117d-4e67-85f9-974f674cd341",
   "metadata": {},
   "outputs": [
    {
     "name": "stdout",
     "output_type": "stream",
     "text": [
      "{'t-shirt': 43, 'mug': 32, 'hat': 21, 'book': 65, 'keychain': 44}\n"
     ]
    }
   ],
   "source": [
    "for product in inventory:\n",
    "    inventory[product] -= 1\n",
    "\n",
    "print(inventory)"
   ]
  },
  {
   "cell_type": "code",
   "execution_count": 15,
   "id": "1e8a9cf3-658c-4b8d-bd53-50e9656969e6",
   "metadata": {},
   "outputs": [
    {
     "name": "stdout",
     "output_type": "stream",
     "text": [
      "t-shirt:43\n",
      "mug:32\n",
      "hat:21\n",
      "book:65\n",
      "keychain:44\n"
     ]
    }
   ],
   "source": [
    "for key, value in inventory.items():\n",
    "    print(f\"{key}:{value}\")"
   ]
  },
  {
   "cell_type": "code",
   "execution_count": null,
   "id": "26718e0f-cb16-42d0-b4c3-97d26a06711a",
   "metadata": {},
   "outputs": [],
   "source": []
  },
  {
   "cell_type": "markdown",
   "id": "30e704ff-bd40-42c9-9735-d38a39e7eca5",
   "metadata": {},
   "source": [
    "# LAB 2"
   ]
  },
  {
   "cell_type": "code",
   "execution_count": null,
   "id": "c327a894-eccd-480d-bf39-987a173301a5",
   "metadata": {},
   "outputs": [],
   "source": []
  }
 ],
 "metadata": {
  "kernelspec": {
   "display_name": "Python 3 (ipykernel)",
   "language": "python",
   "name": "python3"
  },
  "language_info": {
   "codemirror_mode": {
    "name": "ipython",
    "version": 3
   },
   "file_extension": ".py",
   "mimetype": "text/x-python",
   "name": "python",
   "nbconvert_exporter": "python",
   "pygments_lexer": "ipython3",
   "version": "3.11.7"
  }
 },
 "nbformat": 4,
 "nbformat_minor": 5
}
