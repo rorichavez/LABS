{
 "cells": [
  {
   "cell_type": "markdown",
   "id": "25d7736c-ba17-4aff-b6bb-66eba20fbf4e",
   "metadata": {},
   "source": [
    "# Lab | Functions"
   ]
  },
  {
   "cell_type": "markdown",
   "id": "0c581062-8967-4d93-b06e-62833222f930",
   "metadata": {
    "tags": []
   },
   "source": [
    "## Exercise: Managing Customer Orders with Functions\n",
    "\n",
    "In the previous exercise, you improved the code for managing customer orders by using loops and flow control. Now, let's take it a step further and refactor the code by introducing functions.\n",
    "\n",
    "Follow the steps below to complete the exercise:\n",
    "\n",
    "1. Define a function named `initialize_inventory` that takes `products` as a parameter. Inside the function, implement the code for initializing the inventory dictionary using a loop and user input.\n",
    "\n",
    "2. Define a function named `get_customer_orders` that takes no parameters. Inside the function, implement the code for prompting the user to enter the product names using a loop. The function should return the `customer_orders` set.\n",
    "\n",
    "3. Define a function named `update_inventory` that takes `customer_orders` and `inventory` as parameters. Inside the function, implement the code for updating the inventory dictionary based on the customer orders.\n",
    "\n",
    "4. Define a function named `calculate_order_statistics` that takes `customer_orders` and `products` as parameters. Inside the function, implement the code for calculating the order statistics (total products ordered, and percentage of unique products ordered). The function should return these values.\n",
    "\n",
    "5. Define a function named `print_order_statistics` that takes `order_statistics` as a parameter. Inside the function, implement the code for printing the order statistics.\n",
    "\n",
    "6. Define a function named `print_updated_inventory` that takes `inventory` as a parameter. Inside the function, implement the code for printing the updated inventory.\n",
    "\n",
    "7. Call the functions in the appropriate sequence to execute the program and manage customer orders.\n",
    "\n",
    "Hints for functions:\n",
    "\n",
    "- Consider the input parameters required for each function and their return values.\n",
    "- Utilize function parameters and return values to transfer data between functions.\n",
    "- Test your functions individually to ensure they work correctly.\n",
    "\n",
    "\n"
   ]
  },
  {
   "cell_type": "markdown",
   "id": "e31b4446",
   "metadata": {},
   "source": [
    "**1. Define a function named initialize_inventory that takes products as a parameter. Inside the function, implement the code for initializing the inventory dictionary using a loop and user input.**"
   ]
  },
  {
   "cell_type": "code",
   "execution_count": 54,
   "id": "5e88ef22",
   "metadata": {},
   "outputs": [],
   "source": [
    "products = [\"t-shirt\", \"mug\", \"hat\", \"book\", \"keychain\"]"
   ]
  },
  {
   "cell_type": "code",
   "execution_count": 55,
   "id": "85948320",
   "metadata": {},
   "outputs": [],
   "source": [
    "def initialize_inventory(products):\n",
    "    inventory = {}\n",
    "    for i in products:\n",
    "        quantity = int(input(f\"Enter the quantity of {i} available: \"))\n",
    "        inventory[i] = quantity\n",
    "    return inventory"
   ]
  },
  {
   "cell_type": "code",
   "execution_count": 56,
   "id": "6532528b",
   "metadata": {},
   "outputs": [
    {
     "name": "stdout",
     "output_type": "stream",
     "text": [
      "Enter the quantity of t-shirt available: 2\n",
      "Enter the quantity of mug available: 3\n",
      "Enter the quantity of hat available: 4\n",
      "Enter the quantity of book available: 5\n",
      "Enter the quantity of keychain available: 6\n"
     ]
    }
   ],
   "source": [
    "inventory = initialize_inventory(products)"
   ]
  },
  {
   "cell_type": "markdown",
   "id": "ec9653f3",
   "metadata": {},
   "source": [
    "**2. Define a function named `get_customer_orders` that takes no parameters. Inside the function, implement the code for prompting the user to enter the product names using a loop. The function should return the `customer_orders` set.**"
   ]
  },
  {
   "cell_type": "code",
   "execution_count": 28,
   "id": "222eb417",
   "metadata": {},
   "outputs": [],
   "source": [
    "def get_customer_orders():\n",
    "    customer_orders = set()\n",
    "    state = \"yes\"\n",
    "    while state == \"yes\":\n",
    "        product_name = input(\"Enter the name of a product that a customer wants to order: \")\n",
    "        customer_orders.add(product_name)\n",
    "        state = input(\"Do you want to add another product (yes/no)\")\n",
    "    return customer_orders"
   ]
  },
  {
   "cell_type": "code",
   "execution_count": 29,
   "id": "c1a1c6fa",
   "metadata": {},
   "outputs": [
    {
     "name": "stdout",
     "output_type": "stream",
     "text": [
      "Enter the name of a product that a customer wants to order: hat\n",
      "Do you want to add another product (yes/no)yes\n",
      "Enter the name of a product that a customer wants to order: mug\n",
      "Do you want to add another product (yes/no)no\n"
     ]
    },
    {
     "data": {
      "text/plain": [
       "{'hat', 'mug'}"
      ]
     },
     "execution_count": 29,
     "metadata": {},
     "output_type": "execute_result"
    }
   ],
   "source": [
    "customer_orders = get_customer_orders()\n",
    "customer_orders"
   ]
  },
  {
   "cell_type": "markdown",
   "id": "9b5af124",
   "metadata": {},
   "source": [
    "**3. Define a function named `update_inventory` that takes `customer_orders` and `inventory` as parameters. Inside the function, implement the code for updating the inventory dictionary based on the customer orders.**"
   ]
  },
  {
   "cell_type": "code",
   "execution_count": 30,
   "id": "73be5f2c",
   "metadata": {},
   "outputs": [],
   "source": [
    "def update_inventory(customer_orders, inventory):\n",
    "    for i in customer_orders:\n",
    "        inventory[i] -= 1\n",
    "    return inventory"
   ]
  },
  {
   "cell_type": "code",
   "execution_count": 31,
   "id": "fd303f11",
   "metadata": {},
   "outputs": [],
   "source": [
    "inventory = update_inventory(customer_orders, inventory)"
   ]
  },
  {
   "cell_type": "markdown",
   "id": "7767f8e9",
   "metadata": {},
   "source": [
    "**4. Define a function named `calculate_order_statistics` that takes `customer_orders` and `products` as parameters. Inside the function, implement the code for calculating the order statistics (total products ordered, and percentage of unique products ordered). The function should return these values.**\n"
   ]
  },
  {
   "cell_type": "code",
   "execution_count": 38,
   "id": "23d58cf7",
   "metadata": {},
   "outputs": [],
   "source": [
    "def calculate_order_statistics(customer_orders, products):\n",
    "    total_products_ordered = len(customer_orders)\n",
    "    percentage_ordered = (total_products_ordered / len(products)) * 100\n",
    "    return total_products_ordered, percentage_ordered"
   ]
  },
  {
   "cell_type": "code",
   "execution_count": 39,
   "id": "61bd4233",
   "metadata": {},
   "outputs": [],
   "source": [
    "order_status = calculate_order_statistics(customer_orders, products)\n",
    "order_status"
   ]
  },
  {
   "cell_type": "markdown",
   "id": "e7ef7d3c",
   "metadata": {},
   "source": [
    "**5. Define a function named `print_order_statistics` that takes `order_statistics` as a parameter. Inside the function, implement the code for printing the order statistics.**"
   ]
  },
  {
   "cell_type": "code",
   "execution_count": 42,
   "id": "de74b938",
   "metadata": {},
   "outputs": [],
   "source": [
    "def print_order_statistics(order_status):\n",
    "    print(\"Order Statistics:\")\n",
    "    print(\"Total Products Ordered:\", order_status[0])\n",
    "    print(\"Percentage of Unique Products Ordered:\", order_status[1])"
   ]
  },
  {
   "cell_type": "code",
   "execution_count": 43,
   "id": "809d9029",
   "metadata": {},
   "outputs": [
    {
     "name": "stdout",
     "output_type": "stream",
     "text": [
      "Order Statistics:\n",
      "Total Products Ordered: 2\n",
      "Percentage of Unique Products Ordered: 40.0\n"
     ]
    }
   ],
   "source": [
    "print_order_statistics(order_status)"
   ]
  },
  {
   "cell_type": "markdown",
   "id": "458e476c",
   "metadata": {},
   "source": [
    "**6. Define a function named `print_updated_inventory` that takes `inventory` as a parameter. Inside the function, implement the code for printing the updated inventory.**"
   ]
  },
  {
   "cell_type": "code",
   "execution_count": 44,
   "id": "1a172f8b",
   "metadata": {},
   "outputs": [],
   "source": [
    "def print_updated_inventory(inventory):\n",
    "    print(\"Updated Inventory:\")\n",
    "    for key, value in inventory.items():\n",
    "        print(key, value)"
   ]
  },
  {
   "cell_type": "code",
   "execution_count": 45,
   "id": "f5116aff",
   "metadata": {},
   "outputs": [
    {
     "name": "stdout",
     "output_type": "stream",
     "text": [
      "Updated Inventory:\n",
      "t-shirt 2\n",
      "mug 2\n",
      "hat 3\n",
      "book 5\n",
      "keychain 6\n"
     ]
    }
   ],
   "source": [
    "print_updated_inventory(inventory)"
   ]
  },
  {
   "cell_type": "markdown",
   "id": "f1c9d9c4",
   "metadata": {},
   "source": [
    "**7. Call the functions in the appropriate sequence to execute the program and manage customer orders.**"
   ]
  },
  {
   "cell_type": "code",
   "execution_count": 58,
   "id": "3d6c55ca",
   "metadata": {},
   "outputs": [
    {
     "name": "stdout",
     "output_type": "stream",
     "text": [
      "Enter the quantity of t-shirt available: 2\n",
      "Enter the quantity of mug available: 3\n",
      "Enter the quantity of hat available: 4\n",
      "Enter the quantity of book available: 5\n",
      "Enter the quantity of keychain available: 6\n",
      "Enter the name of a product that a customer wants to order: hat\n",
      "Do you want to add another product (yes/no)yes\n",
      "Enter the name of a product that a customer wants to order: book\n",
      "Do you want to add another product (yes/no)yes\n",
      "Enter the name of a product that a customer wants to order: mug\n",
      "Do you want to add another product (yes/no)no\n",
      "Order Statistics:\n",
      "Total Products Ordered: 3\n",
      "Percentage of Unique Products Ordered: 60.0\n",
      "Updated Inventory:\n",
      "t-shirt 2\n",
      "mug 2\n",
      "hat 3\n",
      "book 4\n",
      "keychain 6\n"
     ]
    }
   ],
   "source": [
    "products = [\"t-shirt\", \"mug\", \"hat\", \"book\", \"keychain\"]\n",
    "\n",
    "inventory = initialize_inventory(products)\n",
    "\n",
    "customer_orders = get_customer_orders()\n",
    "\n",
    "inventory = update_inventory(customer_orders, inventory)\n",
    "\n",
    "print_updated_inventory(inventory)\n",
    "\n",
    "order_status = calculate_order_statistics(customer_orders, products)\n",
    "\n",
    "print_order_statistics(order_status)"
   ]
  },
  {
   "cell_type": "code",
   "execution_count": null,
   "id": "0d787a03",
   "metadata": {},
   "outputs": [],
   "source": []
  }
 ],
 "metadata": {
  "kernelspec": {
   "display_name": "Python 3 (ipykernel)",
   "language": "python",
   "name": "python3"
  },
  "language_info": {
   "codemirror_mode": {
    "name": "ipython",
    "version": 3
   },
   "file_extension": ".py",
   "mimetype": "text/x-python",
   "name": "python",
   "nbconvert_exporter": "python",
   "pygments_lexer": "ipython3",
   "version": "3.11.7"
  }
 },
 "nbformat": 4,
 "nbformat_minor": 5
}
