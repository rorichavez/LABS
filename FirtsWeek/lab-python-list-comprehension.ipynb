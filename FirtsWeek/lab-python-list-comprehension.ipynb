{
 "cells": [
  {
   "cell_type": "markdown",
   "id": "25d7736c-ba17-4aff-b6bb-66eba20fbf4e",
   "metadata": {},
   "source": [
    "# Lab | List, Dict and Set Comprehension"
   ]
  },
  {
   "cell_type": "markdown",
   "id": "7dd3cbde-675a-4b81-92c3-f728846dbe06",
   "metadata": {},
   "source": [
    "## Exercise: Managing Customer Orders Optimized with Comprehension"
   ]
  },
  {
   "cell_type": "code",
   "execution_count": 108,
   "id": "eac8ca8f-bfbc-40f1-9fe8-ee18b63e2fad",
   "metadata": {},
   "outputs": [
    {
     "name": "stdin",
     "output_type": "stream",
     "text": [
      "Enter the quantity of t-shirts available:  3\n",
      "Enter the quantity of mugs available:  1\n",
      "Enter the quantity of hats available:  2\n",
      "Enter the quantity of books available:  3\n",
      "Enter the quantity of keychains available:  1\n"
     ]
    },
    {
     "name": "stdout",
     "output_type": "stream",
     "text": [
      "{'t-shirt': 3, 'mug': 1, 'hat': 2, 'book': 3, 'keychain': 1}\n"
     ]
    }
   ],
   "source": [
    "#1.Exercise 1\n",
    "products = [\"t-shirt\", \"mug\", \"hat\", \"book\", \"keychain\"]\n",
    "\n",
    "def initialize_inventory(products):\n",
    "    inventory = {product: int(input(f\"Enter the quantity of {product}s available: \")) for product in products}\n",
    "    return inventory\n",
    "\n",
    "inventory = initialize_inventory(products)\n",
    "print(inventory)"
   ]
  },
  {
   "cell_type": "code",
   "execution_count": 106,
   "id": "e94da812-37a7-4f83-847e-83b8617e2793",
   "metadata": {},
   "outputs": [
    {
     "name": "stdin",
     "output_type": "stream",
     "text": [
      "Enter a product:  hat\n",
      "Do you wanna add another product?:  yes\n",
      "Enter a product:  mug\n",
      "Do you wanna add another product?:  nosadas\n"
     ]
    },
    {
     "name": "stdout",
     "output_type": "stream",
     "text": [
      "{'mug', 'hat'}\n"
     ]
    }
   ],
   "source": [
    "#1.Exercise 1\n",
    "\"\"\"def get_customer_orders():\n",
    "    customer_orders = set()\n",
    "    while True:     \n",
    "    \n",
    "        new_orders = input(\"Enter a product: \")\n",
    "        customer_orders.add(new_orders)\n",
    "        another_product = input(\"Do you wanna add another product?: \")\n",
    "        if another_product.lower() == \"yes\":\n",
    "            continue \n",
    "        else:\n",
    "            break \n",
    "    return customer_orders\n",
    "\n",
    "customer_orders = get_customer_orders()\n",
    "print(customer_orders)\"\"\""
   ]
  },
  {
   "cell_type": "code",
   "execution_count": 110,
   "id": "c728b01b-9474-47f6-9da9-e26b44d45fb1",
   "metadata": {},
   "outputs": [
    {
     "name": "stdout",
     "output_type": "stream",
     "text": [
      "{'t-shirt': 3, 'mug': 0, 'hat': 2, 'book': 2, 'keychain': 1}\n"
     ]
    }
   ],
   "source": [
    "#1.Exercise 1\n",
    "def update_inventory(customer_orders, inventory):\n",
    "    \n",
    "    inventory_update = {product:inventory[product] - 1 if product in customer_orders else inventory[product] for product in inventory}\n",
    "    \n",
    "    return inventory_update\n",
    "\n",
    "\n",
    "inventory_update = update_inventory(customer_orders, inventory)\n",
    "print(inventory_update)\n"
   ]
  },
  {
   "cell_type": "code",
   "execution_count": 115,
   "id": "269db9c5-7db7-4d19-9c23-1d652e0b9645",
   "metadata": {},
   "outputs": [
    {
     "name": "stdin",
     "output_type": "stream",
     "text": [
      "Enter how many products do you want:  2\n",
      "Enter a product?:  mug\n",
      "Enter a product?:  book\n"
     ]
    },
    {
     "name": "stdout",
     "output_type": "stream",
     "text": [
      "{'book', 'mug'}\n"
     ]
    }
   ],
   "source": [
    "#2.Exercise 2\n",
    "#Definimos input fuera para que se guarde el resultado\n",
    "orders = int(input(\"Enter how many products do you want: \"))\n",
    "\n",
    "def get_customer_orders()-> set: \n",
    "    customer_orders = {input(\"Enter a product?: \") for numero in range(orders)}\n",
    "    return customer_orders\n",
    "\n",
    "customer_orders = get_customer_orders()\n",
    "print(customer_orders)"
   ]
  },
  {
   "cell_type": "code",
   "execution_count": 122,
   "id": "2e91dcb9-ea4c-4290-b89d-d59834304547",
   "metadata": {},
   "outputs": [
    {
     "name": "stdin",
     "output_type": "stream",
     "text": [
      "Enter the price for the book: € 44\n",
      "Enter the price for the mug: € 33\n"
     ]
    },
    {
     "name": "stdout",
     "output_type": "stream",
     "text": [
      "{'book': 44, 'mug': 33}\n",
      "The total price of costumer order is: 77€\n"
     ]
    }
   ],
   "source": [
    "#3.Exercise 3\n",
    "def calculate_total_price(customer_orders):\n",
    "    total_price = {product:int(input(f\"Enter the price for the {product}: \" \"€\")) for product in customer_orders }\n",
    "    return total_price, sum(total_price.values())\n",
    "\n",
    "total_price, values = calculate_total_price(customer_orders)\n",
    "print(total_price)\n",
    "\"\"\"5.Print the total price of the customer order.\"\"\"\n",
    "#5.Exercise 5\n",
    "#Print the total price of the customer order.\n",
    "print (f\"The total price of costumer order is: {values}€\")"
   ]
  },
  {
   "cell_type": "code",
   "execution_count": 121,
   "id": "f613d9bf-7f4a-4799-ab9c-173f681c55ec",
   "metadata": {},
   "outputs": [
    {
     "name": "stdout",
     "output_type": "stream",
     "text": [
      "{'t-shirt': 3, 'hat': 2, 'book': 2}\n"
     ]
    }
   ],
   "source": [
    "#4.Exercise 4\n",
    "def update_inventory(customer_orders, inventory):\n",
    "\n",
    "    inventory_update = {product:int(quantity - 1) if product in customer_orders else inventory[product] for product, quantity in inventory.items() if quantity - 1 > 0}\n",
    "    return inventory_update\n",
    "\n",
    "inventory_update = update_inventory(customer_orders, inventory)\n",
    "print(inventory_update)"
   ]
  },
  {
   "cell_type": "markdown",
   "id": "5d500160-2fb7-4777-b5e4-09d45ebaf328",
   "metadata": {},
   "source": [
    "In the previous exercise, you developed a program to manage customer orders and inventory. Now, let's take it a step further and incorporate comprehension into your code.\n",
    "\n",
    "Follow the steps below to complete the exercise:\n",
    "\n",
    "1. Review your code from the previous exercise and identify areas where you can apply comprehension to simplify and streamline your code. \n",
    "\n",
    "    - *Hint: Apply it to initialize inventory, updating the inventory and printing the updated inventory.*\n",
    "    \n",
    "    - For example, in initializing the inventory, we could have:\n",
    "    \n",
    "        ```python\n",
    "        def initialize_inventory(products):\n",
    "            inventory = {product: int(input(f\"Enter the quantity of {product}s available: \")) for product in products}\n",
    "            return inventory\n",
    "\n",
    "        ```\n",
    "<br>\n",
    "    \n",
    "    \n",
    "2. Modify the function get_customer_orders so it prompts the user to enter the number of customer orders and gathers the product names using a loop and user input. Use comprehension.\n",
    "\n",
    "3. Add a new function to calculate the total price of the customer order. For each product in customer_orders, prompt the user to enter the price of that product. Use comprehension to calculate the total price. Note: assume that the user can only have 1 unit of each product.\n",
    "\n",
    "4. Modify the update_inventory function to remove the product from the inventory if its quantity becomes zero after fulfilling the customer orders. Use comprehension to filter out the products with a quantity of zero from the inventory.\n",
    "\n",
    "5. Print the total price of the customer order.\n",
    "\n",
    "Your code should produce output similar to the following:\n",
    "\n",
    "```python\n",
    "Enter the quantity of t-shirts available:  5\n",
    "Enter the quantity of mugs available:  4\n",
    "Enter the quantity of hats available:  3\n",
    "Enter the quantity of books available:  2\n",
    "Enter the quantity of keychains available:  1\n",
    "Enter the number of customer orders:  2\n",
    "Enter the name of a product that a customer wants to order:  hat\n",
    "Enter the name of a product that a customer wants to order:  keychain\n",
    "\n",
    "Order Statistics:\n",
    "Total Products Ordered: 2\n",
    "Percentage of Unique Products Ordered: 40.0\n",
    "\n",
    "Updated Inventory:\n",
    "t-shirt: 5\n",
    "mug: 4\n",
    "hat: 2\n",
    "book: 2\n",
    "Enter the price of keychain:  5\n",
    "Enter the price of hat:  10\n",
    "Total Price: 15.0\n",
    "\n",
    "```\n"
   ]
  },
  {
   "cell_type": "code",
   "execution_count": null,
   "id": "b40e3efe-031a-4208-b5fb-143ba8ba76b4",
   "metadata": {},
   "outputs": [],
   "source": [
    "def get_customer_orders():\n",
    "    customer_orders = set()\n",
    "    while True:     \n",
    "        number_products = input(\"Enter how...:\")    \n",
    "        new_orders = input(\"Enter a product: \")\n",
    "        customer_orders.add(new_orders)\n",
    "        another_product = input(\"Do you wanna add another product?: \")\n",
    "        if another_product.lower() == \"yes\":\n",
    "            continue \n",
    "        else:\n",
    "            break \n",
    "    return customer_orders\n",
    "\n",
    "customer_orders = get_customer_orders()\n",
    "print(customer_orders)"
   ]
  }
 ],
 "metadata": {
  "kernelspec": {
   "display_name": "Python 3 (ipykernel)",
   "language": "python",
   "name": "python3"
  },
  "language_info": {
   "codemirror_mode": {
    "name": "ipython",
    "version": 3
   },
   "file_extension": ".py",
   "mimetype": "text/x-python",
   "name": "python",
   "nbconvert_exporter": "python",
   "pygments_lexer": "ipython3",
   "version": "3.11.7"
  }
 },
 "nbformat": 4,
 "nbformat_minor": 5
}
