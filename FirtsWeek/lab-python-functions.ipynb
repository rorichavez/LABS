{
 "cells": [
  {
   "cell_type": "markdown",
   "id": "25d7736c-ba17-4aff-b6bb-66eba20fbf4e",
   "metadata": {},
   "source": [
    "# Lab | Functions"
   ]
  },
  {
   "cell_type": "markdown",
   "id": "0c581062-8967-4d93-b06e-62833222f930",
   "metadata": {
    "tags": []
   },
   "source": [
    "## Exercise: Managing Customer Orders with Functions\n",
    "\n",
    "In the previous exercise, you improved the code for managing customer orders by using loops and flow control. Now, let's take it a step further and refactor the code by introducing functions.\n",
    "\n",
    "Follow the steps below to complete the exercise:\n",
    "\n",
    "1. Define a function named `initialize_inventory` that takes `products` as a parameter. Inside the function, implement the code for initializing the inventory dictionary using a loop and user input.\n",
    "\n",
    "2. Define a function named `get_customer_orders` that takes no parameters. Inside the function, implement the code for prompting the user to enter the product names using a loop. The function should return the `customer_orders` set.\n",
    "\n",
    "3. Define a function named `update_inventory` that takes `customer_orders` and `inventory` as parameters. Inside the function, implement the code for updating the inventory dictionary based on the customer orders.\n",
    "\n",
    "4. Define a function named `calculate_order_statistics` that takes `customer_orders` and `products` as parameters. Inside the function, implement the code for calculating the order statistics (total products ordered, and percentage of unique products ordered). The function should return these values.\n",
    "\n",
    "5. Define a function named `print_order_statistics` that takes `order_statistics` as a parameter. Inside the function, implement the code for printing the order statistics.\n",
    "\n",
    "6. Define a function named `print_updated_inventory` that takes `inventory` as a parameter. Inside the function, implement the code for printing the updated inventory.\n",
    "\n",
    "7. Call the functions in the appropriate sequence to execute the program and manage customer orders.\n",
    "\n",
    "Hints for functions:\n",
    "\n",
    "- Consider the input parameters required for each function and their return values.\n",
    "- Utilize function parameters and return values to transfer data between functions.\n",
    "- Test your functions individually to ensure they work correctly.\n",
    "\n",
    "\n"
   ]
  },
  {
   "cell_type": "code",
   "execution_count": 87,
   "id": "e5e3032b-01b5-4307-85db-82cb78cc1bed",
   "metadata": {},
   "outputs": [
    {
     "name": "stdin",
     "output_type": "stream",
     "text": [
      "Enter the quantity of t-shirt:  4\n",
      "Enter the quantity of mug:  5\n",
      "Enter the quantity of hat:  10\n",
      "Enter the quantity of book:  10\n",
      "Enter the quantity of keychain:  10\n"
     ]
    }
   ],
   "source": [
    "#Define a function named initialize_inventory that takes products as a parameter.\n",
    "products = [\"t-shirt\", \"mug\", \"hat\", \"book\", \"keychain\"]\n",
    "\n",
    "def initialize_inventory(products): #Inside the function, implement the code for initializing the inventory dictionary using a loop and user input.\n",
    "    inventory = {}\n",
    "    for i in products:\n",
    "        quantity = -1\n",
    "        while quantity < 0:\n",
    "            quantity = int(input(f\"Enter the quantity of {i}: \"))\n",
    "        inventory[i] = quantity\n",
    "    return inventory\n",
    "inventory = initialize_inventory(products)\n",
    "#for product in products: \n",
    "#inventory[product] = int(input(f\"Enter the quantity of {i}: \"))"
   ]
  },
  {
   "cell_type": "code",
   "execution_count": 88,
   "id": "c24ad599-6259-4e76-b828-6f8e5eaee45a",
   "metadata": {},
   "outputs": [
    {
     "name": "stdin",
     "output_type": "stream",
     "text": [
      "Enter a product:  book\n",
      "Do you wanna add another product?:  yes\n",
      "Enter a product:  book\n",
      "Do you wanna add another product?:  yes\n",
      "Enter a product:  book\n",
      "Do you wanna add another product?:  mug\n"
     ]
    }
   ],
   "source": [
    "#Define a function named get_customer_orders that takes no parameters. \n",
    "def get_customer_orders():\n",
    "    customer_orders = set()\n",
    "    while True:     \n",
    "        new_orders = input(\"Enter a product: \")\n",
    "        customer_orders.add(new_orders)\n",
    "        another_product = input(\"Do you wanna add another product?: \")\n",
    "        if another_product.lower() == \"yes\":\n",
    "            continue \n",
    "        else:\n",
    "            break \n",
    "    return customer_orders\n",
    "\n",
    "customer_orders = get_customer_orders()\n",
    "\n",
    "#Inside the function, implement the code for prompting the user to enter the product names using a loop. \n",
    "#The function should return the customer_orders set."
   ]
  },
  {
   "cell_type": "code",
   "execution_count": 89,
   "id": "5a7e85ae-6e20-4516-91b8-0bbbdeb50c83",
   "metadata": {},
   "outputs": [
    {
     "data": {
      "text/plain": [
       "{'t-shirt': 4, 'mug': 5, 'hat': 10, 'book': 9, 'keychain': 10}"
      ]
     },
     "execution_count": 89,
     "metadata": {},
     "output_type": "execute_result"
    }
   ],
   "source": [
    "#Define a function named update_inventory that takes customer_orders and inventory as parameters.\n",
    "#Inside the function, implement the code for updating the inventory dictionary based on the customer orders.\n",
    "def update_inventory(customer_orders, inventory):\n",
    "    for product in inventory:\n",
    "        if product in customer_orders:\n",
    "            inventory[product] -= 1\n",
    "    return inventory\n",
    "        \n",
    "update_inventory(customer_orders, inventory)"
   ]
  },
  {
   "cell_type": "code",
   "execution_count": 81,
   "id": "3fcbc15d-84d9-4986-a8c6-1d1d140eab94",
   "metadata": {},
   "outputs": [],
   "source": [
    "#Define a function named calculate_order_statistics that takes customer_orders and products as parameters. \n",
    "def calculate_order_statistics(customer_orders,products):\n",
    "    products_ordered = len(customer_orders)\n",
    "    total_available = sum(inventory.values())\n",
    "    percentage = (products_ordered/total_available) * 100\n",
    "    return  products_ordered, percentage\n",
    "\n",
    "order_statistics = calculate_order_statistics(customer_orders,products)\n",
    "\n",
    "#Inside the function, implement the code for calculating the order statistics:\n",
    "#(total products ordered, and percentage of unique products ordered). The function should return these values."
   ]
  },
  {
   "cell_type": "code",
   "execution_count": 82,
   "id": "fa92ebe8-8f3d-40cb-bcf9-62a050d57496",
   "metadata": {},
   "outputs": [
    {
     "name": "stdout",
     "output_type": "stream",
     "text": [
      "(3, 1.3824884792626728)\n"
     ]
    }
   ],
   "source": [
    "#Define a function named print_order_statistics that takes order_statistics as a parameter.\n",
    "#Inside the function, implement the code for printing the order statistics.\n",
    "\n",
    "def print_order_statistics(order_statistics):\n",
    "    print(order_statistics)\n",
    "     \n",
    "print_order_statistics(order_statistics)\n"
   ]
  },
  {
   "cell_type": "code",
   "execution_count": 83,
   "id": "edc9d2da-84c7-490e-99d5-26ec4ad7aa70",
   "metadata": {},
   "outputs": [
    {
     "name": "stdout",
     "output_type": "stream",
     "text": [
      "Total products order: 3\n",
      "Percentage of products order: 1.3824884792626728\n"
     ]
    }
   ],
   "source": [
    "def print_order_statistics(order_statistics):\n",
    "    print(\"Total products order:\" , order_statistics[0])\n",
    "    print(\"Percentage of products order:\", order_statistics[1])\n",
    "print_order_statistics(order_statistics)"
   ]
  },
  {
   "cell_type": "code",
   "execution_count": 84,
   "id": "c650cce6-bca2-4f9e-9ba3-cc216a90429a",
   "metadata": {},
   "outputs": [
    {
     "name": "stdout",
     "output_type": "stream",
     "text": [
      "{'t-shirt': 22, 'mug': 32, 'hat': 43, 'book': 54, 'keychain': 66}\n"
     ]
    }
   ],
   "source": [
    "#Define a function named print_updated_inventory that takes inventory as a parameter. \n",
    "#Inside the function, implement the code for printing the updated inventory.\n",
    "def print_updated_inventory (inventory):\n",
    "    print(inventory)\n",
    "print_updated_inventory (inventory)"
   ]
  },
  {
   "cell_type": "code",
   "execution_count": null,
   "id": "b3e243c2-835f-4303-9e1f-7451be969540",
   "metadata": {},
   "outputs": [],
   "source": []
  }
 ],
 "metadata": {
  "kernelspec": {
   "display_name": "Python 3 (ipykernel)",
   "language": "python",
   "name": "python3"
  },
  "language_info": {
   "codemirror_mode": {
    "name": "ipython",
    "version": 3
   },
   "file_extension": ".py",
   "mimetype": "text/x-python",
   "name": "python",
   "nbconvert_exporter": "python",
   "pygments_lexer": "ipython3",
   "version": "3.11.7"
  }
 },
 "nbformat": 4,
 "nbformat_minor": 5
}
